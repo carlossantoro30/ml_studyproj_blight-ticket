{
 "cells": [
  {
   "cell_type": "code",
   "execution_count": 2,
   "metadata": {},
   "outputs": [],
   "source": [
    "import pandas as pd\n",
    "import numpy as np\n",
    "import matplotlib.pyplot as plt\n",
    "import seaborn as sns"
   ]
  },
  {
   "cell_type": "code",
   "execution_count": 27,
   "metadata": {},
   "outputs": [],
   "source": [
    "def get_trasnform_data():\n",
    "    coordinates = pd.read_csv('readonly/latlons.csv')\n",
    "    coordinates.address = coordinates.address.str.lower().str.replace('[^\\w]', '')\n",
    "\n",
    "    addresses = pd.read_csv('readonly/addresses.csv')\n",
    "    addresses.address = addresses.address.str.lower().str.replace('[^\\w]', '')\n",
    "    addresses = addresses.merge(coordinates, how='left', left_on='address', right_on='address')\n",
    "\n",
    "    raw_data = pd.read_csv('readonly/train.csv', encoding='windows-1250')\n",
    "    raw_data = raw_data[~raw_data.compliance.isna()]\n",
    "\n",
    "    #feature processing\n",
    "    df = raw_data.merge(addresses, how='left', left_on='ticket_id', right_on='ticket_id')\n",
    "    df['another_city'] = df.city != 'Detroit'\n",
    "    df['another_state'] = df.state != 'MI'\n",
    "    df['hearing_issue_date_diff'] = (pd.to_datetime(df.ticket_issued_date) - pd.to_datetime(df.hearing_date)).dt.days\n",
    "    transformed_vars = ['city', 'state', 'address', 'ticket_issued_date', 'hearing_date', 'balance_due']\n",
    "    leakage_var = ['payment_amount', 'payment_date', 'payment_status', 'payment_status', 'collection_status',\n",
    "                    'compliance_detail']\n",
    "    noise_var = ['ticket_id', 'violator_name', 'violation_street_number', 'violation_zip_code',\n",
    "                'violation_street_name', 'mailing_address_str_number', 'mailing_address_str_name', 'zip_code',\n",
    "                'violation_description']\n",
    "    bad_var = [\n",
    "            'clean_up_cost', #all rows = 0\n",
    "            'non_us_str_code', #high na rate\n",
    "            'grafitti_status' #high na rate\n",
    "        ]\n",
    "    columns_to_drop = leakage_var + noise_var + transformed_vars\n",
    "    df = df.drop(columns_to_drop, axis='columns')\n",
    "    #y_train = pd.get_dummies(df.compliance)\n",
    "    #X_train = pd.get_dummies(df.drop('compliance', axis='columns'))\n",
    "    return (raw_data, df)#, X_train, y_train)\n",
    "raw_data, df = get_trasnform_data()"
   ]
  },
  {
   "cell_type": "code",
   "execution_count": 22,
   "metadata": {},
   "outputs": [
    {
     "output_type": "execute_result",
     "data": {
      "text/plain": "array([0.])"
     },
     "metadata": {},
     "execution_count": 22
    }
   ],
   "source": [
    "raw_data.clean_up_cost.unique()"
   ]
  },
  {
   "cell_type": "code",
   "execution_count": 26,
   "metadata": {},
   "outputs": [
    {
     "output_type": "execute_result",
     "data": {
      "text/plain": "ticket_id                       0.000000\nagency_name                     0.000000\ninspector_name                  0.000000\nviolator_name                   0.016262\nviolation_street_number         0.000000\nviolation_street_name           0.000000\nviolation_zip_code            100.000000\nmailing_address_str_number      1.599950\nmailing_address_str_name        0.001876\ncity                            0.000000\nstate                           0.052539\nzip_code                        0.000625\nnon_us_str_code                99.998124\ncountry                         0.000000\nticket_issued_date              0.000000\nhearing_date                    0.141981\nviolation_code                  0.000000\nviolation_description           0.000000\ndisposition                     0.000000\nfine_amount                     0.000000\nadmin_fee                       0.000000\nstate_fee                       0.000000\nlate_fee                        0.000000\ndiscount_amount                 0.000000\nclean_up_cost                   0.000000\njudgment_amount                 0.000000\npayment_amount                  0.000000\nbalance_due                     0.000000\npayment_date                   75.224543\npayment_status                  0.000000\ncollection_status              76.922067\ngrafitti_status               100.000000\ncompliance_detail               0.000000\ncompliance                      0.000000\ndtype: float64"
     },
     "metadata": {},
     "execution_count": 26
    }
   ],
   "source": [
    "(raw_data.isna().sum()*100 / len(raw_data.index))"
   ]
  },
  {
   "cell_type": "code",
   "execution_count": 24,
   "metadata": {},
   "outputs": [
    {
     "output_type": "execute_result",
     "data": {
      "text/plain": "Index(['violation_street_number', 'violation_zip_code',\n       'mailing_address_str_number', 'fine_amount', 'admin_fee', 'state_fee',\n       'late_fee', 'discount_amount', 'clean_up_cost', 'judgment_amount',\n       'payment_amount', 'balance_due', 'compliance'],\n      dtype='object')"
     },
     "metadata": {},
     "execution_count": 24
    }
   ],
   "source": [
    "float_vars = raw_data.columns[raw_data.dtypes == 'float64']\n"
   ]
  }
 ],
 "metadata": {
  "language_info": {
   "codemirror_mode": {
    "name": "ipython",
    "version": 3
   },
   "file_extension": ".py",
   "mimetype": "text/x-python",
   "name": "python",
   "nbconvert_exporter": "python",
   "pygments_lexer": "ipython3",
   "version": "3.7.9-final"
  },
  "orig_nbformat": 2,
  "kernelspec": {
   "name": "python3",
   "display_name": "Python 3"
  }
 },
 "nbformat": 4,
 "nbformat_minor": 2
}